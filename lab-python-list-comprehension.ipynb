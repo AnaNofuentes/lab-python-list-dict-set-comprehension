{
 "cells": [
  {
   "cell_type": "markdown",
   "id": "25d7736c-ba17-4aff-b6bb-66eba20fbf4e",
   "metadata": {},
   "source": [
    "# Lab | List, Dict and Set Comprehension"
   ]
  },
  {
   "cell_type": "markdown",
   "id": "7dd3cbde-675a-4b81-92c3-f728846dbe06",
   "metadata": {},
   "source": [
    "## Exercise: Managing Customer Orders Optimized with Comprehension"
   ]
  },
  {
   "cell_type": "markdown",
   "id": "5d500160-2fb7-4777-b5e4-09d45ebaf328",
   "metadata": {},
   "source": [
    "In the previous exercise, you developed a program to manage customer orders and inventory. Now, let's take it a step further and incorporate comprehension into your code.\n",
    "\n",
    "Follow the steps below to complete the exercise:\n",
    "\n",
    "1. Review your code from the previous exercise and identify areas where you can apply comprehension to simplify and streamline your code. \n",
    "\n",
    "    - *Hint: Apply it to initialize inventory, updating the inventory and printing the updated inventory.*\n",
    "    \n",
    "    - For example, in initializing the inventory, we could have:\n",
    "    \n",
    "        ```python\n",
    "        def initialize_inventory(products):\n",
    "            inventory = {product: int(input(f\"Enter the quantity of {product}s available: \")) for product in products}\n",
    "            return inventory\n",
    "\n",
    "        ```\n",
    "<br>\n",
    "    \n",
    "    \n",
    "2. Modify the function get_customer_orders so it prompts the user to enter the number of customer orders and gathers the product names using a loop and user input. Use comprehension.\n",
    "\n",
    "3. Add a new function to calculate the total price of the customer order. For each product in customer_orders, prompt the user to enter the price of that product. Use comprehension to calculate the total price. Note: assume that the user can only have 1 unit of each product.\n",
    "\n",
    "4. Modify the update_inventory function to remove the product from the inventory if its quantity becomes zero after fulfilling the customer orders. Use comprehension to filter out the products with a quantity of zero from the inventory.\n",
    "\n",
    "5. Print the total price of the customer order.\n",
    "\n",
    "Your code should produce output similar to the following:\n",
    "\n",
    "```python\n",
    "Enter the quantity of t-shirts available:  5\n",
    "Enter the quantity of mugs available:  4\n",
    "Enter the quantity of hats available:  3\n",
    "Enter the quantity of books available:  2\n",
    "Enter the quantity of keychains available:  1\n",
    "Enter the number of customer orders:  2\n",
    "Enter the name of a product that a customer wants to order:  hat\n",
    "Enter the name of a product that a customer wants to order:  keychain\n",
    "\n",
    "Order Statistics:\n",
    "Total Products Ordered: 2\n",
    "Percentage of Unique Products Ordered: 40.0\n",
    "\n",
    "Updated Inventory:\n",
    "t-shirt: 5\n",
    "mug: 4\n",
    "hat: 2\n",
    "book: 2\n",
    "Enter the price of keychain:  5\n",
    "Enter the price of hat:  10\n",
    "Total Price: 15.0\n",
    "\n",
    "```\n"
   ]
  },
  {
   "cell_type": "markdown",
   "id": "0ce9e864",
   "metadata": {},
   "source": [
    "1. Review your code from the previous exercise and identify areas where you can apply comprehension to simplify and streamline your code. \n",
    "\n",
    "    - *Hint: Apply it to initialize inventory, updating the inventory and printing the updated inventory.*\n",
    "    \n",
    "    - For example, in initializing the inventory, we could have:\n",
    "    \n",
    "        ```python\n",
    "        def initialize_inventory(products):\n",
    "            inventory = {product: int(input(f\"Enter the quantity of {product}s available: \")) for product in products}\n",
    "            return inventory\n",
    "\n",
    "        ```"
   ]
  },
  {
   "cell_type": "code",
   "execution_count": null,
   "id": "97b5095d",
   "metadata": {},
   "outputs": [],
   "source": [
    "def initialize_inventory(products):\n",
    "    inventory = {} \n",
    "    for product in products:\n",
    "        quantity= int(input(\"please enter a quantity of {product}s avaiable: \"))\n",
    "        inventory[product] = quantity\n",
    "    return inventory"
   ]
  },
  {
   "cell_type": "code",
   "execution_count": 1,
   "id": "35d5de28",
   "metadata": {},
   "outputs": [],
   "source": [
    "def initialize_inventory(products):\n",
    "    inventory = {product: int(input(f\"Enter the quantity of {product}s available: \")) for product in products}\n",
    "    return inventory"
   ]
  },
  {
   "cell_type": "code",
   "execution_count": 2,
   "id": "ef67e8a9",
   "metadata": {},
   "outputs": [
    {
     "name": "stdout",
     "output_type": "stream",
     "text": [
      "{'t-shirt': 1, 'mug': 2, 'hat': 4, 'book': 5, 'keychain': 6}\n"
     ]
    }
   ],
   "source": [
    "products = [\"t-shirt\", \"mug\", \"hat\", \"book\", \"keychain\"] \n",
    "inventory = initialize_inventory(products)\n",
    "print(inventory)"
   ]
  },
  {
   "cell_type": "markdown",
   "id": "d11b729b",
   "metadata": {},
   "source": [
    "2. Modify the function get_customer_orders so it prompts the user to enter the number of customer orders and gathers the product names using a loop and user input. Use comprehension."
   ]
  },
  {
   "cell_type": "code",
   "execution_count": null,
   "id": "13dd4853",
   "metadata": {},
   "outputs": [],
   "source": [
    "\n",
    "def get_customer_orders():  \n",
    "    customer_orders = set()\n",
    "\n",
    "    add_another = 'yes'\n",
    "    while add_another.lower() == 'yes':\n",
    "        product_name = input(\"Enter a name of a product that customer wants to order:\")\n",
    "        customer_orders.add(product_name)\n",
    "        add_another = input(\"Do you want to another product (yes/no)\")\n",
    "    return(customer_orders)"
   ]
  },
  {
   "cell_type": "code",
   "execution_count": 5,
   "id": "19866ab5",
   "metadata": {},
   "outputs": [],
   "source": [
    "def get_customer_orders():\n",
    "   num_orders = int(input(\"Enter the number of customer orders: \"))\n",
    "   customer_orders = {input(\"Enter a name of a product that customer wants to order:\") \n",
    "                      for i in range(customer_orders)}\n",
    "   return customer_orders"
   ]
  },
  {
   "cell_type": "markdown",
   "id": "7a6ffedc",
   "metadata": {},
   "source": [
    "3. Add a new function to calculate the total price of the customer order. For each product in customer_orders, prompt the user to enter the price of that product. Use comprehension to calculate the total price. Note: assume that the user can only have 1 unit of each product."
   ]
  },
  {
   "cell_type": "code",
   "execution_count": 6,
   "id": "6401f385",
   "metadata": {},
   "outputs": [],
   "source": [
    "def calculate_total_price(customer_orders):\n",
    "    total_price = sum(float(input(f\"Enter the price for {product}: \"))\n",
    "        for product in customer_orders)\n",
    "    return total_price\n"
   ]
  },
  {
   "cell_type": "code",
   "execution_count": 8,
   "id": "1a0fe06b",
   "metadata": {},
   "outputs": [
    {
     "name": "stdout",
     "output_type": "stream",
     "text": [
      "Total price of the order: $122.00\n"
     ]
    }
   ],
   "source": [
    "customer_orders = {\"mug\": 10, \"book\": 6, \"hat\": 2}\n",
    "total_price = calculate_total_price(customer_orders)\n",
    "\n",
    "print(f\"Total price of the order: ${total_price:.2f}\")"
   ]
  },
  {
   "cell_type": "markdown",
   "id": "9822d5ce",
   "metadata": {},
   "source": [
    "4. Modify the update_inventory function to remove the product from the inventory if its quantity becomes zero after fulfilling the customer orders. Use comprehension to filter out the products with a quantity of zero from the inventory."
   ]
  },
  {
   "cell_type": "code",
   "execution_count": 9,
   "id": "3a3438c7",
   "metadata": {},
   "outputs": [],
   "source": [
    "def update_inventory(customer_orders, inventory):\n",
    "    # Updated inventory\n",
    "    for product in customer_orders:\n",
    "        if product in inventory:\n",
    "            inventory[product] -= 1  \n",
    "            \n",
    "    # Filter products > 0\n",
    "    inventory = {product: quantity for product, quantity in inventory.items() if quantity > 0}\n",
    "    \n",
    "    return inventory\n"
   ]
  },
  {
   "cell_type": "code",
   "execution_count": 11,
   "id": "90ecaf09",
   "metadata": {},
   "outputs": [
    {
     "name": "stdout",
     "output_type": "stream",
     "text": [
      "Updated Inventory:\n",
      "{'apple': 1, 'banana': 3, 'grape': 4}\n"
     ]
    }
   ],
   "source": [
    "inventory = {\n",
    "    \"apple\": 2,\n",
    "    \"orange\": 1,\n",
    "    \"banana\": 3,\n",
    "    \"grape\": 5\n",
    "}\n",
    "\n",
    "customer_orders = {\"apple\", \"orange\", \"grape\"}\n",
    "\n",
    "updated_inventory = update_inventory(customer_orders, inventory)\n",
    "\n",
    "print(\"Updated Inventory:\")\n",
    "print(updated_inventory)"
   ]
  },
  {
   "cell_type": "markdown",
   "id": "aa446933",
   "metadata": {},
   "source": [
    "5. Print the total price of the customer order.\n",
    "\n",
    "Your code should produce output similar to the following:\n",
    "\n",
    "```python\n",
    "Enter the quantity of t-shirts available:  5\n",
    "Enter the quantity of mugs available:  4\n",
    "Enter the quantity of hats available:  3\n",
    "Enter the quantity of books available:  2\n",
    "Enter the quantity of keychains available:  1\n",
    "Enter the number of customer orders:  2\n",
    "Enter the name of a product that a customer wants to order:  hat\n",
    "Enter the name of a product that a customer wants to order:  keychain\n",
    "\n",
    "Order Statistics:\n",
    "Total Products Ordered: 2\n",
    "Percentage of Unique Products Ordered: 40.0\n",
    "\n",
    "Updated Inventory:\n",
    "t-shirt: 5\n",
    "mug: 4\n",
    "hat: 2\n",
    "book: 2\n",
    "Enter the price of keychain:  5\n",
    "Enter the price of hat:  10\n",
    "Total Price: 15.0\n",
    "\n",
    "```"
   ]
  },
  {
   "cell_type": "code",
   "execution_count": 14,
   "id": "ffd959a8",
   "metadata": {},
   "outputs": [
    {
     "name": "stdout",
     "output_type": "stream",
     "text": [
      "\n",
      "Order Statistics:\n",
      "Total Products Ordered: 6\n",
      "Percentage of Unique Products Ordered: 120.0\n",
      "\n",
      "Updated Inventory:\n",
      "t-shirt: 6\n",
      "mug: 44\n",
      "hat: 46\n",
      "book: 7\n",
      "keychain: 6\n",
      "\n",
      "Total Price: 136.0\n"
     ]
    }
   ],
   "source": [
    "# 1. Initialize the inventory\n",
    "def initialize_inventory(products):\n",
    "    # Create a dictionary for inventory with quantities entered by the user\n",
    "    inventory = {product: int(input(f\"Enter the quantity of {product}s available: \")) for product in products}\n",
    "    return inventory\n",
    "\n",
    "# 2. Get customer orders\n",
    "def get_customer_orders():\n",
    "    # Prompt the user to enter the number of customer orders\n",
    "    num_orders = int(input(\"Enter the number of customer orders: \"))\n",
    "    \n",
    "    # Create a set of customer orders based on user input\n",
    "    customer_orders = {\n",
    "        input(f\"Enter the name of a product that a customer wants to order: \") \n",
    "        for _ in range(num_orders)\n",
    "    }\n",
    "    \n",
    "    return customer_orders\n",
    "\n",
    "# 3. Calculate order statistics\n",
    "def calculate_order_statistics(customer_orders, products):\n",
    "    # Calculate the total number of unique products ordered\n",
    "    total_products_ordered = len(customer_orders)\n",
    "    # Calculate the total number of available products\n",
    "    total_available_products = len(products)\n",
    "\n",
    "    # Calculate the percentage of unique products ordered\n",
    "    percentage_ordered = (total_products_ordered / total_available_products) * 100\n",
    "\n",
    "    return total_products_ordered, percentage_ordered\n",
    "\n",
    "# 4. Update the inventory\n",
    "def update_inventory(customer_orders, inventory):\n",
    "    # Update the inventory based on customer orders\n",
    "    for product in customer_orders:\n",
    "        if product in inventory:\n",
    "            inventory[product] -= 1  # Assuming each order is for one unit of the product\n",
    "\n",
    "    # Filter out products with zero quantity\n",
    "    inventory = {product: quantity for product, quantity in inventory.items() if quantity > 0}\n",
    "    \n",
    "    return inventory\n",
    "\n",
    "# 5. Calculate the total price of the customer order\n",
    "def calculate_total_price(customer_orders):\n",
    "    # Calculate the total price based on the prices entered by the user\n",
    "    total_price = sum(\n",
    "        float(input(f\"Enter the price of {product}: \")) \n",
    "        for product in customer_orders\n",
    "    )\n",
    "    return total_price\n",
    "\n",
    "# 6. Print order statistics\n",
    "def print_order_statistics(order_statistics):\n",
    "    total_products_ordered, percentage_ordered = order_statistics\n",
    "    print(\"\\nOrder Statistics:\")\n",
    "    print(f\"Total Products Ordered: {total_products_ordered}\")\n",
    "    print(f\"Percentage of Unique Products Ordered: {percentage_ordered:.1f}\")\n",
    "\n",
    "# 7. Print the updated inventory\n",
    "def print_updated_inventory(inventory):\n",
    "    print(\"\\nUpdated Inventory:\")\n",
    "    for product, quantity in inventory.items():\n",
    "        print(f\"{product}: {quantity}\")\n",
    "\n",
    "# Main function to execute the flow\n",
    "def main():\n",
    "    # Define the list of products available in the inventory\n",
    "    products = [\"t-shirt\", \"mug\", \"hat\", \"book\", \"keychain\"]\n",
    "    \n",
    "    # 1. Initialize the inventory\n",
    "    inventory = initialize_inventory(products)\n",
    "    \n",
    "    # 2. Get customer orders\n",
    "    customer_orders = get_customer_orders()\n",
    "    \n",
    "    # 3. Calculate order statistics\n",
    "    order_statistics = calculate_order_statistics(customer_orders, products)\n",
    "    \n",
    "    # 4. Update the inventory\n",
    "    updated_inventory = update_inventory(customer_orders, inventory)\n",
    "    \n",
    "    # 5. Print order statistics\n",
    "    print_order_statistics(order_statistics)\n",
    "    \n",
    "    # 6. Print the updated inventory\n",
    "    print_updated_inventory(updated_inventory)\n",
    "    \n",
    "    # 7. Calculate the total price of the order\n",
    "    total_price = calculate_total_price(customer_orders)\n",
    "    \n",
    "    # 8. Print the total price\n",
    "    print(f\"\\nTotal Price: {total_price:.1f}\")\n",
    "\n",
    "# Execute the main function\n",
    "main()\n"
   ]
  }
 ],
 "metadata": {
  "kernelspec": {
   "display_name": "Python 3 (ipykernel)",
   "language": "python",
   "name": "python3"
  },
  "language_info": {
   "codemirror_mode": {
    "name": "ipython",
    "version": 3
   },
   "file_extension": ".py",
   "mimetype": "text/x-python",
   "name": "python",
   "nbconvert_exporter": "python",
   "pygments_lexer": "ipython3",
   "version": "3.12.4"
  }
 },
 "nbformat": 4,
 "nbformat_minor": 5
}
